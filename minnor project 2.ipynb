{
 "cells": [
  {
   "cell_type": "code",
   "execution_count": 1,
   "id": "68c459e0-ac48-4c36-a71b-c0ce4b7953f2",
   "metadata": {},
   "outputs": [
    {
     "name": "stdin",
     "output_type": "stream",
     "text": [
      "enter your pin 123\n",
      "enter amount to be deposit 120000\n"
     ]
    },
    {
     "name": "stdout",
     "output_type": "stream",
     "text": [
      " Your amount is successfully deposit 120000\n",
      "updated amount 132000\n"
     ]
    },
    {
     "name": "stdin",
     "output_type": "stream",
     "text": [
      "Enter amount to withdraw:  1200\n"
     ]
    },
    {
     "name": "stdout",
     "output_type": "stream",
     "text": [
      "Your withdrawal is successful: 1200\n",
      "Remaining balance: 130800\n"
     ]
    }
   ],
   "source": [
    "#atm function\n",
    "pin=int(input(\"enter your pin\"))\n",
    "m=12000\n",
    "def atm(bal):\n",
    "    def deposit(bal):\n",
    "        amount=int(input(\"enter amount to be deposit\"))\n",
    "        bal+=amount\n",
    "        print(\" Your amount is successfully deposit\",amount)\n",
    "        print(\"updated amount\",bal)\n",
    "        return bal\n",
    "    def withdrawl(bal):\n",
    "        amount = int(input(\"Enter amount to withdraw: \"))\n",
    "        if bal<amount:\n",
    "            print(\"Your request is rejected due to insufficient balance.\")\n",
    "        else:\n",
    "            bal -= amount\n",
    "            print(\"Your withdrawal is successful:\",amount)\n",
    "            print(\"Remaining balance:\",bal)\n",
    "        return bal\n",
    "    bal = deposit(bal)\n",
    "    bal = withdrawl(bal)\n",
    "atm(m)"
   ]
  },
  {
   "cell_type": "code",
   "execution_count": null,
   "id": "26e77cf0-c1a5-4a96-b13b-b44ea1eec157",
   "metadata": {},
   "outputs": [],
   "source": []
  }
 ],
 "metadata": {
  "kernelspec": {
   "display_name": "Python 3 (ipykernel)",
   "language": "python",
   "name": "python3"
  },
  "language_info": {
   "codemirror_mode": {
    "name": "ipython",
    "version": 3
   },
   "file_extension": ".py",
   "mimetype": "text/x-python",
   "name": "python",
   "nbconvert_exporter": "python",
   "pygments_lexer": "ipython3",
   "version": "3.13.5"
  }
 },
 "nbformat": 4,
 "nbformat_minor": 5
}
